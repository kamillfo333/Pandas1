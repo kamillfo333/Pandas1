{
  "nbformat": 4,
  "nbformat_minor": 0,
  "metadata": {
    "colab": {
      "provenance": [],
      "include_colab_link": true
    },
    "kernelspec": {
      "name": "python3",
      "display_name": "Python 3"
    },
    "language_info": {
      "name": "python"
    }
  },
  "cells": [
    {
      "cell_type": "markdown",
      "metadata": {
        "id": "view-in-github",
        "colab_type": "text"
      },
      "source": [
        "<a href=\"https://colab.research.google.com/github/kamillfo333/Pandas1/blob/main/Untitled6.ipynb\" target=\"_parent\"><img src=\"https://colab.research.google.com/assets/colab-badge.svg\" alt=\"Open In Colab\"/></a>"
      ]
    },
    {
      "cell_type": "markdown",
      "source": [
        "Pandas. Lecture 5. Введение в pandas: анализ данных на Python"
      ],
      "metadata": {
        "id": "ZwSxIBcEqcI9"
      }
    },
    {
      "cell_type": "code",
      "source": [
        "# Pandas Series (серия) — это одномерный массив.\n",
        "import numpy as np\n",
        "import pandas as pd\n",
        "my_serias=pd.Series([5,6,7,8,9,10,11,12])\n",
        "print(my_serias)"
      ],
      "metadata": {
        "id": "006wOkUVmlk_"
      },
      "execution_count": null,
      "outputs": []
    },
    {
      "cell_type": "code",
      "source": [
        "# RangeIndex, в ней всегда содержатся числа\n",
        "# от 0 до определенного числа N, которое обозначает количество элементов в серии.\n",
        "import numpy as np\n",
        "import pandas as pd\n",
        "my_serias=pd.Series([5,6,7,8,9,10,11,12], index=[\"a\",\"b\", \"c\", 'd',\"e\", \"f\",\"g\",\"h\"])\n",
        "print(my_serias)"
      ],
      "metadata": {
        "colab": {
          "base_uri": "https://localhost:8080/"
        },
        "id": "DcM2EYk7gCay",
        "outputId": "8d7f50ae-0403-4df7-a211-3584706c0d72"
      },
      "execution_count": null,
      "outputs": [
        {
          "output_type": "stream",
          "name": "stdout",
          "text": [
            "a     5\n",
            "b     6\n",
            "c     7\n",
            "d     8\n",
            "e     9\n",
            "f    10\n",
            "g    11\n",
            "h    12\n",
            "dtype: int64\n"
          ]
        }
      ]
    },
    {
      "cell_type": "code",
      "source": [
        "# Индексы помогают обращаться к элементам серии и менять их значения\n",
        "import numpy as np\n",
        "import pandas as pd\n",
        "my_serias=pd.Series([5,6,7,8,9,10,11,12], index=[\"a\",\"b\", \"c\", 'd',\"e\", \"f\",\"g\",\"h\"])\n",
        "my_serias[[\"a\",\"b\",\"f\", \"h\"]]=0\n",
        "print(my_serias)"
      ],
      "metadata": {
        "colab": {
          "base_uri": "https://localhost:8080/"
        },
        "id": "msyhFWuAgsQH",
        "outputId": "007450c3-669d-4d6e-8005-c870fa45fc77"
      },
      "execution_count": null,
      "outputs": [
        {
          "output_type": "stream",
          "name": "stdout",
          "text": [
            "a     0\n",
            "b     0\n",
            "c     7\n",
            "d     8\n",
            "e     9\n",
            "f     0\n",
            "g    11\n",
            "h     0\n",
            "dtype: int64\n"
          ]
        }
      ]
    },
    {
      "cell_type": "code",
      "source": [
        "#\n",
        "import numpy as np\n",
        "import pandas as pd\n",
        "my_serias=pd.Series([5,6,7,8,9,10,11,12], index=[\"a\",\"b\", \"c\", 'd',\"e\", \"f\",\"g\",\"h\"])\n",
        "print(my_serias[[\"a\",\"b\",\"f\", \"h\"]])"
      ],
      "metadata": {
        "colab": {
          "base_uri": "https://localhost:8080/"
        },
        "id": "w4YBkXNug9Vn",
        "outputId": "019eee90-4228-4492-dffc-04e7c5276841"
      },
      "execution_count": null,
      "outputs": [
        {
          "output_type": "stream",
          "name": "stdout",
          "text": [
            "a     5\n",
            "b     6\n",
            "f    10\n",
            "h    12\n",
            "dtype: int64\n"
          ]
        }
      ]
    },
    {
      "cell_type": "code",
      "source": [
        "# Для поиска пропусков есть специальный метод .isna(). Он эквивалентен\n",
        "# конструкции s != s\n",
        "import numpy as np\n",
        "import pandas as pd\n",
        "l = [1, 3, 5, np.nan, 6, 8]\n",
        "my_series = pd.Series(l)\n",
        "print(my_series)\n",
        "print(\"Isna\")\n",
        "print(my_series.isna())"
      ],
      "metadata": {
        "colab": {
          "base_uri": "https://localhost:8080/"
        },
        "id": "-aNaCavuh5mG",
        "outputId": "0627b87e-86c7-4c22-d589-56047366384b"
      },
      "execution_count": null,
      "outputs": [
        {
          "output_type": "stream",
          "name": "stdout",
          "text": [
            "0    1.0\n",
            "1    3.0\n",
            "2    5.0\n",
            "3    NaN\n",
            "4    6.0\n",
            "5    8.0\n",
            "dtype: float64\n",
            "Isna\n",
            "0    False\n",
            "1    False\n",
            "2    False\n",
            "3     True\n",
            "4    False\n",
            "5    False\n",
            "dtype: bool\n"
          ]
        }
      ]
    },
    {
      "cell_type": "code",
      "source": [
        "# Основная информация о наборе данных: количество записей, среднее,\n",
        "# стандартное отклонение, минимум, нижний квартиль, медиана, верхний\n",
        "# квартиль, максимум, а так же тип данных.\n",
        "import numpy as np\n",
        "import pandas as pd\n",
        "l = [1, 3, 5, np.nan, 6, 8]\n",
        "my_series = pd.Series(l)\n",
        "print(\"My_series:\")\n",
        "print(my_series)\n",
        "print(\"Describe:\")\n",
        "print(my_series.describe())"
      ],
      "metadata": {
        "colab": {
          "base_uri": "https://localhost:8080/"
        },
        "id": "0nd3p8VfiC1-",
        "outputId": "637ce2a4-07d2-477b-85f9-25ab407207ac"
      },
      "execution_count": null,
      "outputs": [
        {
          "output_type": "stream",
          "name": "stdout",
          "text": [
            "My_series:\n",
            "0    1.0\n",
            "1    3.0\n",
            "2    5.0\n",
            "3    NaN\n",
            "4    6.0\n",
            "5    8.0\n",
            "dtype: float64\n",
            "Describe:\n",
            "count    5.000000\n",
            "mean     4.600000\n",
            "std      2.701851\n",
            "min      1.000000\n",
            "25%      3.000000\n",
            "50%      5.000000\n",
            "75%      6.000000\n",
            "max      8.000000\n",
            "dtype: float64\n"
          ]
        }
      ]
    },
    {
      "cell_type": "code",
      "source": [
        "#В данном примере обычная индексация.\n",
        "import numpy as np\n",
        "import pandas as pd\n",
        "l = [1, 3, 5, np.nan, 6, 8]\n",
        "my_series = pd.Series(l)\n",
        "print(my_series[2])"
      ],
      "metadata": {
        "colab": {
          "base_uri": "https://localhost:8080/"
        },
        "id": "ynsxuRzciXBV",
        "outputId": "4b77eb5d-f085-4d71-8566-98694c66f73d"
      },
      "execution_count": null,
      "outputs": [
        {
          "output_type": "stream",
          "name": "stdout",
          "text": [
            "5.0\n"
          ]
        }
      ]
    },
    {
      "cell_type": "code",
      "source": [
        "# Ex 1.\n",
        "import numpy as np\n",
        "import pandas as pd\n",
        "l = [1, 3, 5, np.nan, 6, 8]\n",
        "my_series = pd.Series(l)\n",
        "my_series[2]=100\n",
        "print(my_series)"
      ],
      "metadata": {
        "colab": {
          "base_uri": "https://localhost:8080/"
        },
        "id": "5KCyMH1-iXEk",
        "outputId": "de61b387-f1bc-4704-efad-202fe605bde8"
      },
      "execution_count": null,
      "outputs": [
        {
          "output_type": "stream",
          "name": "stdout",
          "text": [
            "0      1.0\n",
            "1      3.0\n",
            "2    100.0\n",
            "3      NaN\n",
            "4      6.0\n",
            "5      8.0\n",
            "dtype: float64\n"
          ]
        }
      ]
    },
    {
      "cell_type": "code",
      "source": [
        "# Ex 2.\n",
        "import numpy as np\n",
        "import pandas as pd\n",
        "l = [1, 3, 5, np.nan, 6, 8]\n",
        "my_series = pd.Series(l)\n",
        "print(my_series[2:5])"
      ],
      "metadata": {
        "colab": {
          "base_uri": "https://localhost:8080/"
        },
        "id": "bXdZSeM8iXH0",
        "outputId": "a5cead91-f02d-4d02-e8ec-6c0dbd2b1088"
      },
      "execution_count": null,
      "outputs": [
        {
          "output_type": "stream",
          "name": "stdout",
          "text": [
            "2    5.0\n",
            "3    NaN\n",
            "4    6.0\n",
            "dtype: float64\n"
          ]
        }
      ]
    },
    {
      "cell_type": "code",
      "source": [
        "# Ex 3.\n",
        "import numpy as np\n",
        "import pandas as pd\n",
        "l = [1, 3, 5, np.nan, 6, 8]\n",
        "my_series = pd.Series(l)\n",
        "my_series1 = my_series[1:]\n",
        "print(my_series1)"
      ],
      "metadata": {
        "colab": {
          "base_uri": "https://localhost:8080/"
        },
        "id": "SQ72_XbSiXLW",
        "outputId": "589d8a99-caa6-4637-ad26-ece87a7afbf1"
      },
      "execution_count": null,
      "outputs": [
        {
          "output_type": "stream",
          "name": "stdout",
          "text": [
            "1    3.0\n",
            "2    5.0\n",
            "3    NaN\n",
            "4    6.0\n",
            "5    8.0\n",
            "dtype: float64\n"
          ]
        }
      ]
    },
    {
      "cell_type": "code",
      "source": [
        "# Ex 4.\n",
        "import numpy as np\n",
        "import pandas as pd\n",
        "l = [1, 3, 5, np.nan, 6, 8]\n",
        "my_series = pd.Series(l)\n",
        "my_series1 = my_series[:-1]\n",
        "print(my_series1)"
      ],
      "metadata": {
        "colab": {
          "base_uri": "https://localhost:8080/"
        },
        "id": "oW8kAkflim49",
        "outputId": "84cbda70-a834-4edd-d64b-d781414ed555"
      },
      "execution_count": null,
      "outputs": [
        {
          "output_type": "stream",
          "name": "stdout",
          "text": [
            "0    1.0\n",
            "1    3.0\n",
            "2    5.0\n",
            "3    NaN\n",
            "4    6.0\n",
            "dtype: float64\n"
          ]
        }
      ]
    },
    {
      "cell_type": "code",
      "source": [
        "# Фильтр\n",
        "import numpy as np\n",
        "import pandas as pd\n",
        "l = [1, 3, 5, np.nan, 6, 8]\n",
        "my_series = pd.Series(l)\n",
        "print(\"my_series>5:\")\n",
        "print(my_series[my_series > 5])\n",
        "print(\"[my_series>5]*2:\")\n",
        "print(my_series[my_series>5]*2)"
      ],
      "metadata": {
        "colab": {
          "base_uri": "https://localhost:8080/"
        },
        "id": "45Lp7yeFim70",
        "outputId": "cff9d8c3-f5b9-42ee-e16d-bf53e30afc5b"
      },
      "execution_count": null,
      "outputs": [
        {
          "output_type": "stream",
          "name": "stdout",
          "text": [
            "my_series>5:\n",
            "4    6.0\n",
            "5    8.0\n",
            "dtype: float64\n",
            "[my_series>5]*2:\n",
            "4    12.0\n",
            "5    16.0\n",
            "dtype: float64\n"
          ]
        }
      ]
    },
    {
      "cell_type": "code",
      "source": [
        "# В сумме s1+s2 складываются данные с одинаковыми индексами.\n",
        "# Поскольку в s1 нет данного и индексом 0, а в s2 — с индексом 5, в s1+s2 в\n",
        "# соответствующих позициях будет NaN.\n",
        "import numpy as np\n",
        "import pandas as pd\n",
        "l = [1, 3, 5, np.nan, 6, 8]\n",
        "my_series = pd.Series(l)\n",
        "my_series1 = my_series[1:]\n",
        "my_series2=my_series[:-1]\n",
        "print(my_series1+my_series2)"
      ],
      "metadata": {
        "colab": {
          "base_uri": "https://localhost:8080/"
        },
        "id": "BWGhF-NJiorc",
        "outputId": "7d55ddf6-9509-4f13-8d20-17f63f8b4d4c"
      },
      "execution_count": null,
      "outputs": [
        {
          "output_type": "stream",
          "name": "stdout",
          "text": [
            "0     NaN\n",
            "1     6.0\n",
            "2    10.0\n",
            "3     NaN\n",
            "4    12.0\n",
            "5     NaN\n",
            "dtype: float64\n"
          ]
        }
      ]
    },
    {
      "cell_type": "code",
      "source": [
        "# К наборам данных можно применять функции из numpy\n",
        "import numpy as np\n",
        "import pandas as pd\n",
        "l = [1, 3, 5, np.nan, 6, 8]\n",
        "my_series = pd.Series(l)\n",
        "print(np.exp(my_series))"
      ],
      "metadata": {
        "colab": {
          "base_uri": "https://localhost:8080/"
        },
        "id": "R6L5t9XYio2U",
        "outputId": "475de6dd-e788-4e8b-e2ab-eabe43e431a5"
      },
      "execution_count": null,
      "outputs": [
        {
          "output_type": "stream",
          "name": "stdout",
          "text": [
            "0       2.718282\n",
            "1      20.085537\n",
            "2     148.413159\n",
            "3            NaN\n",
            "4     403.428793\n",
            "5    2980.957987\n",
            "dtype: float64\n"
          ]
        }
      ]
    },
    {
      "cell_type": "code",
      "source": [
        "import numpy as np\n",
        "import pandas as pd\n",
        "l = [1, 3, 5, np.nan, 6, 8]\n",
        "my_series = pd.Series(l)\n",
        "print(my_series.index)"
      ],
      "metadata": {
        "colab": {
          "base_uri": "https://localhost:8080/"
        },
        "id": "VxQmNkGpio5N",
        "outputId": "1a920bb1-291e-4d75-ed14-723a8ac823f1"
      },
      "execution_count": null,
      "outputs": [
        {
          "output_type": "stream",
          "name": "stdout",
          "text": [
            "RangeIndex(start=0, stop=6, step=1)\n"
          ]
        }
      ]
    },
    {
      "cell_type": "code",
      "source": [
        "# Ex 1\n",
        "import numpy as np\n",
        "import pandas as pd\n",
        "l = [1, 3, 5, np.nan, 6, 8]\n",
        "i = list(\"abcdef\")\n",
        "my_series = pd.Series(l, index=i)\n",
        "print(my_series)"
      ],
      "metadata": {
        "colab": {
          "base_uri": "https://localhost:8080/"
        },
        "id": "R4-MaYGVio8G",
        "outputId": "7b4d53da-746e-4909-d36c-48b27f8f40e1"
      },
      "execution_count": null,
      "outputs": [
        {
          "output_type": "stream",
          "name": "stdout",
          "text": [
            "a    1.0\n",
            "b    3.0\n",
            "c    5.0\n",
            "d    NaN\n",
            "e    6.0\n",
            "f    8.0\n",
            "dtype: float64\n"
          ]
        }
      ]
    },
    {
      "cell_type": "code",
      "source": [
        "# Ex 2\n",
        "import numpy as np\n",
        "import pandas as pd\n",
        "l = [1, 3, 5, np.nan, 6, 8]\n",
        "i = list(\"abcdef\")\n",
        "my_series = pd.Series(l, index=i)\n",
        "print(my_series[\"c\"])"
      ],
      "metadata": {
        "colab": {
          "base_uri": "https://localhost:8080/"
        },
        "id": "1DlSplj4io-8",
        "outputId": "95f3d853-7cf5-45ec-a765-11b5f4e849b7"
      },
      "execution_count": null,
      "outputs": [
        {
          "output_type": "stream",
          "name": "stdout",
          "text": [
            "5.0\n"
          ]
        }
      ]
    },
    {
      "cell_type": "code",
      "source": [
        "# Ex 3.\n",
        "import numpy as np\n",
        "import pandas as pd\n",
        "l = [1, 3, 5, np.nan, 6, 8]\n",
        "i = list(\"abcdef\")\n",
        "my_series = pd.Series(l,index=i)\n",
        "print(my_series.c)"
      ],
      "metadata": {
        "colab": {
          "base_uri": "https://localhost:8080/"
        },
        "id": "K_ZaVJ-ZipB1",
        "outputId": "398bc1a8-3ad2-47da-c540-279fd97021ff"
      },
      "execution_count": null,
      "outputs": [
        {
          "output_type": "stream",
          "name": "stdout",
          "text": [
            "5.0\n"
          ]
        }
      ]
    },
    {
      "cell_type": "code",
      "source": [
        "# Ex 4.\n",
        "import pandas as pd\n",
        "my_series = pd.Series({\"a\":1, \"b&\":2, \"c\":0})\n",
        "print(my_series)"
      ],
      "metadata": {
        "colab": {
          "base_uri": "https://localhost:8080/"
        },
        "id": "gdpXllxvna13",
        "outputId": "7a92c8b0-aeca-4363-d3c2-391de0ca43f5"
      },
      "execution_count": null,
      "outputs": [
        {
          "output_type": "stream",
          "name": "stdout",
          "text": [
            "a     1\n",
            "b&    2\n",
            "c     0\n",
            "dtype: int64\n"
          ]
        }
      ]
    },
    {
      "cell_type": "code",
      "source": [
        "# Можно отсортировать набор данных.\n",
        "import pandas as pd\n",
        "my_series = pd.Series({\"a\":1, \"b\":2,\"c\":0})\n",
        "print(my_series.sort_values())"
      ],
      "metadata": {
        "colab": {
          "base_uri": "https://localhost:8080/"
        },
        "id": "_RvxrBFsnbIr",
        "outputId": "8155449f-b9de-48cf-c1c8-7ddf288ddfdc"
      },
      "execution_count": null,
      "outputs": [
        {
          "output_type": "stream",
          "name": "stdout",
          "text": [
            "c    0\n",
            "a    1\n",
            "b    2\n",
            "dtype: int64\n"
          ]
        }
      ]
    },
    {
      "cell_type": "code",
      "source": [
        "# Роль индекса может играть, скажем, последовательность дат или\n",
        "# времён измерения и т.д.\n",
        "import pandas as pd\n",
        "my_series = pd.date_range(\"20220101\",periods=10)\n",
        "print(my_series)"
      ],
      "metadata": {
        "colab": {
          "base_uri": "https://localhost:8080/"
        },
        "id": "TYUwPGaonbLT",
        "outputId": "055f15a5-b171-4de0-e008-a37daa27cae6"
      },
      "execution_count": null,
      "outputs": [
        {
          "output_type": "stream",
          "name": "stdout",
          "text": [
            "DatetimeIndex(['2022-01-01', '2022-01-02', '2022-01-03', '2022-01-04',\n",
            "               '2022-01-05', '2022-01-06', '2022-01-07', '2022-01-08',\n",
            "               '2022-01-09', '2022-01-10'],\n",
            "              dtype='datetime64[ns]', freq='D')\n"
          ]
        }
      ]
    },
    {
      "cell_type": "code",
      "source": [
        "# Ex 6.\n",
        "import pandas as pd\n",
        "s=pd.Series({'a':1,'b':2,'c':0})\n",
        "print(s.cummax())"
      ],
      "metadata": {
        "colab": {
          "base_uri": "https://localhost:8080/"
        },
        "id": "7y3GjhJByTfm",
        "outputId": "6a320188-ab09-454e-e6a3-c12cf4bf5710"
      },
      "execution_count": null,
      "outputs": [
        {
          "output_type": "stream",
          "name": "stdout",
          "text": [
            "a    1\n",
            "b    2\n",
            "c    2\n",
            "dtype: int64\n"
          ]
        }
      ]
    },
    {
      "cell_type": "code",
      "source": [
        "# Ex 7.\n",
        "import pandas as pd\n",
        "s=pd.Series({'a':1,'b':2,'c':0})\n",
        "print(s.cumsum())"
      ],
      "metadata": {
        "colab": {
          "base_uri": "https://localhost:8080/"
        },
        "id": "Qmy5hp-KyTi2",
        "outputId": "2a41d1a5-e278-4491-a8a2-f6d4089e9305"
      },
      "execution_count": null,
      "outputs": [
        {
          "output_type": "stream",
          "name": "stdout",
          "text": [
            "a    1\n",
            "b    3\n",
            "c    3\n",
            "dtype: int64\n"
          ]
        }
      ]
    },
    {
      "cell_type": "code",
      "source": [
        "# Ex 8.\n",
        "import numpy as np\n",
        "import pandas as pd\n",
        "s=pd.Series({'a':1,'b':2,'c':0})\n",
        "print(s.expanding().apply(np.median, raw=True))"
      ],
      "metadata": {
        "colab": {
          "base_uri": "https://localhost:8080/"
        },
        "id": "0kAPT9kJyTmD",
        "outputId": "480c5804-6094-4752-f853-975511f52af7"
      },
      "execution_count": null,
      "outputs": [
        {
          "output_type": "stream",
          "name": "stdout",
          "text": [
            "a    1.0\n",
            "b    1.5\n",
            "c    1.0\n",
            "dtype: float64\n"
          ]
        }
      ]
    },
    {
      "cell_type": "code",
      "source": [
        "# Ex 9.\n",
        "import pandas as pd\n",
        "s=pd.Series({'a':1,'b':2,'c':0})\n",
        "print(s.diff())"
      ],
      "metadata": {
        "colab": {
          "base_uri": "https://localhost:8080/"
        },
        "id": "HlYK01l8yTpm",
        "outputId": "77fcd6b0-9671-47b9-cede-9615aa630c99"
      },
      "execution_count": null,
      "outputs": [
        {
          "output_type": "stream",
          "name": "stdout",
          "text": [
            "a    NaN\n",
            "b    1.0\n",
            "c   -2.0\n",
            "dtype: float64\n"
          ]
        }
      ]
    },
    {
      "cell_type": "code",
      "source": [
        "# Ex 10.\n",
        "import pandas as pd\n",
        "s=pd.Series({'a':1,'b':2,'c':0})\n",
        "print(s.diff().dropna())"
      ],
      "metadata": {
        "colab": {
          "base_uri": "https://localhost:8080/"
        },
        "id": "r2DRWOqryTrl",
        "outputId": "54e1ff85-bbf0-443f-b0b3-99e81f2ea764"
      },
      "execution_count": null,
      "outputs": [
        {
          "output_type": "stream",
          "name": "stdout",
          "text": [
            "b    1.0\n",
            "c   -2.0\n",
            "dtype: float64\n"
          ]
        }
      ]
    },
    {
      "cell_type": "markdown",
      "source": [
        "Построение графиков"
      ],
      "metadata": {
        "id": "0zBYJ8vHmake"
      }
    },
    {
      "cell_type": "code",
      "source": [
        "import numpy as np\n",
        "import pandas as pd\n",
        "import matplotlib.pyplot as plt\n",
        "import scipy.stats as sps\n",
        "#matplotlib inline\n",
        "# Нужно для новых версий библиотек для преобразования дат\n",
        "from pandas.plotting import register_matplotlib_converters\n",
        "register_matplotlib_converters()\n",
        "d = pd.date_range('20220101', periods=10)\n",
        "s = pd.Series(sps.norm.rvs(size=10), index=d)\n",
        "plt.figure(figsize=(15, 4))\n",
        "plt.plot(s)\n",
        "plt.show()"
      ],
      "metadata": {
        "colab": {
          "base_uri": "https://localhost:8080/",
          "height": 265
        },
        "id": "M0UUkbG7yTuB",
        "outputId": "d0406e86-0ce0-4a20-ad93-a147043e42f7"
      },
      "execution_count": null,
      "outputs": [
        {
          "output_type": "display_data",
          "data": {
            "text/plain": [
              "<Figure size 1080x288 with 1 Axes>"
            ],
            "image/png": "[encoded data removed]"
          },
          "metadata": {
            "needs_background": "light"
          }
        }
      ]
    },
    {
      "cell_type": "code",
      "source": [
        "import pandas as pd\n",
        "df = pd.DataFrame({ 'country': ['Kazakhstan', 'Russia', 'Belarus','Tajikistaan'], 'population': [17.04, 143.5, 9.5, 10.5], 'square': [2724902, 17125191, 207600, 143000] })\n",
        "print(df)"
      ],
      "metadata": {
        "colab": {
          "base_uri": "https://localhost:8080/"
        },
        "id": "fryloNXjyTwi",
        "outputId": "3a7f7c95-b598-45d0-a768-66182da771b5"
      },
      "execution_count": null,
      "outputs": [
        {
          "output_type": "stream",
          "name": "stdout",
          "text": [
            "       country  population    square\n",
            "0   Kazakhstan       17.04   2724902\n",
            "1       Russia      143.50  17125191\n",
            "2      Belarus        9.50    207600\n",
            "3  Tajikistaan       10.50    143000\n"
          ]
        }
      ]
    },
    {
      "cell_type": "code",
      "source": [
        "import pandas as pd\n",
        "df = pd.DataFrame({'country': ['Kazakhstan', 'Russia', 'Belarus','Tajikistaan'], 'population': [17.04, 143.5, 9.5, 10.5], 'square': [2724902, 17125191, 207600, 143000] })\n",
        "print(df['country'])"
      ],
      "metadata": {
        "colab": {
          "base_uri": "https://localhost:8080/"
        },
        "id": "flp1aQEvyTys",
        "outputId": "b1b965ad-62e4-484d-9578-cfa820fcaeb3"
      },
      "execution_count": null,
      "outputs": [
        {
          "output_type": "stream",
          "name": "stdout",
          "text": [
            "0     Kazakhstan\n",
            "1         Russia\n",
            "2        Belarus\n",
            "3    Tajikistaan\n",
            "Name: country, dtype: object\n"
          ]
        }
      ]
    },
    {
      "cell_type": "code",
      "source": [
        "import pandas as pd\n",
        "df = pd.DataFrame({\n",
        " 'country': ['Kazakhstan', 'Russia', 'Belarus', 'Tajikistan'], 'population': [17.04, 143.5, 9.5, 10.5],  'square': [2724902, 17125191, 207600, 143000] }, index=['KZ', 'RU', 'BY', 'TJ'])\n",
        "print(df)"
      ],
      "metadata": {
        "id": "11jt73pAnbV6",
        "colab": {
          "base_uri": "https://localhost:8080/"
        },
        "outputId": "36d155b8-dd08-4b8d-9156-250cd1e04705"
      },
      "execution_count": null,
      "outputs": [
        {
          "output_type": "stream",
          "name": "stdout",
          "text": [
            "       country  population    square\n",
            "KZ  Kazakhstan       17.04   2724902\n",
            "RU      Russia      143.50  17125191\n",
            "BY     Belarus        9.50    207600\n",
            "TJ  Tajikistan       10.50    143000\n"
          ]
        }
      ]
    },
    {
      "cell_type": "code",
      "source": [
        "import pandas as pd\n",
        "df = pd.DataFrame({\n",
        " 'country': ['Kazakhstan', 'Russia', 'Belarus', 'Tajikistan'],  'population': [17.04, 143.5, 9.5, 10.5], 'square': [2724902, 17125191, 207600, 143000] }, index=['KZ', 'RU', 'BY', 'TJ'])\n",
        "print(df.loc[['KZ', 'RU'], 'population'])"
      ],
      "metadata": {
        "colab": {
          "base_uri": "https://localhost:8080/"
        },
        "id": "uRbynL1OzQ-3",
        "outputId": "001c4c19-788e-425e-99a5-2532874fba5d"
      },
      "execution_count": null,
      "outputs": [
        {
          "output_type": "stream",
          "name": "stdout",
          "text": [
            "KZ     17.04\n",
            "RU    143.50\n",
            "Name: population, dtype: float64\n"
          ]
        }
      ]
    },
    {
      "cell_type": "code",
      "source": [
        "import pandas as pd\n",
        "df = pd.DataFrame({ 'country': ['Kazakhstan', 'Russia', 'Belarus', 'Tajikistan'],  'population': [17.04, 143.5, 9.5, 10.5],  'square': [2724902, 17125191, 207600, 143000] }, index=['KZ', 'RU', 'BY', 'TJ'])\n",
        "df['density'] = df['population'] / df['square'] * 1000000\n",
        "print(df)"
      ],
      "metadata": {
        "colab": {
          "base_uri": "https://localhost:8080/"
        },
        "id": "GsJ3Yn4VzRCG",
        "outputId": "6a0f58fb-6b8e-4053-b35c-ec5b6057bca8"
      },
      "execution_count": null,
      "outputs": [
        {
          "output_type": "stream",
          "name": "stdout",
          "text": [
            "       country  population    square    density\n",
            "KZ  Kazakhstan       17.04   2724902   6.253436\n",
            "RU      Russia      143.50  17125191   8.379469\n",
            "BY     Belarus        9.50    207600  45.761079\n",
            "TJ  Tajikistan       10.50    143000  73.426573\n"
          ]
        }
      ]
    },
    {
      "cell_type": "code",
      "source": [
        "import pandas as pd\n",
        "df = pd.DataFrame({\n",
        " 'country': ['Kazakhstan', 'Russia', 'Belarus','Tajikistan'],\n",
        " 'population': [17.04, 143.5, 9.5, 10.5],\n",
        " 'square': [2724902, 17125191, 207600, 143000] }, index=['KZ', 'RU', 'BY', 'TJ'])\n",
        "df['density'] = df['population'] / df['square'] * 1000000\n",
        "print(df.dtypes)"
      ],
      "metadata": {
        "colab": {
          "base_uri": "https://localhost:8080/"
        },
        "id": "cYCyHaQhzRE8",
        "outputId": "c3ef540f-a580-4e4b-e0a5-c273b9cbdd89"
      },
      "execution_count": null,
      "outputs": [
        {
          "output_type": "stream",
          "name": "stdout",
          "text": [
            "country        object\n",
            "population    float64\n",
            "square          int64\n",
            "density       float64\n",
            "dtype: object\n"
          ]
        }
      ]
    },
    {
      "cell_type": "code",
      "source": [
        "import scipy.stats as sps\n",
        "import pandas as pd\n",
        "d = {'one': pd.Series(range(6), index=list('abcdef')),\n",
        " 'two': pd.Series(range(7), index=list('abcdefg')),\n",
        " 'three': pd.Series(sps.norm.rvs(size=7),\n",
        "index=list('abcdefg'))}\n",
        "df = pd.DataFrame(d)\n",
        "print(df)"
      ],
      "metadata": {
        "colab": {
          "base_uri": "https://localhost:8080/"
        },
        "id": "i8UVgCcKzRHU",
        "outputId": "ca13e2ef-5c5d-4756-da58-6e00863590fa"
      },
      "execution_count": null,
      "outputs": [
        {
          "output_type": "stream",
          "name": "stdout",
          "text": [
            "   one  two     three\n",
            "a  0.0    0  0.198208\n",
            "b  1.0    1  0.498973\n",
            "c  2.0    2  0.035681\n",
            "d  3.0    3 -0.546990\n",
            "e  4.0    4  1.017927\n",
            "f  5.0    5 -1.747182\n",
            "g  NaN    6  0.246692\n"
          ]
        }
      ]
    },
    {
      "cell_type": "code",
      "source": [
        "import scipy.stats as sps\n",
        "import pandas as pd\n",
        "d = {'one': pd.Series(range(6), index=list('abcdef')),\n",
        " 'two': pd.Series(range(7), index=list('abcdefg')),\n",
        " 'three': pd.Series(sps.norm.rvs(size=7),\n",
        "index=list('abcdefg'))}\n",
        "df = pd.DataFrame(d)\n",
        "print(df.head())"
      ],
      "metadata": {
        "id": "1Gwsi6JVzRKV",
        "colab": {
          "base_uri": "https://localhost:8080/"
        },
        "outputId": "9ab5ff08-ad69-4320-94f7-780d96f6bc0b"
      },
      "execution_count": null,
      "outputs": [
        {
          "output_type": "stream",
          "name": "stdout",
          "text": [
            "   one  two     three\n",
            "a  0.0    0  0.623699\n",
            "b  1.0    1  0.368365\n",
            "c  2.0    2  0.674628\n",
            "d  3.0    3  1.326628\n",
            "e  4.0    4  1.564467\n"
          ]
        }
      ]
    },
    {
      "cell_type": "code",
      "source": [
        "import scipy.stats as sps\n",
        "import pandas as pd\n",
        "d = {'one': pd.Series(range(6), index=list('abcdef')),\n",
        " 'two': pd.Series(range(7), index=list('abcdefg')),\n",
        " 'three': pd.Series(sps.norm.rvs(size=7),\n",
        "index=list('abcdefg'))}\n",
        "df = pd.DataFrame(d)\n",
        "print(df.tail(3))"
      ],
      "metadata": {
        "id": "JOGrNc6HzRNu",
        "colab": {
          "base_uri": "https://localhost:8080/"
        },
        "outputId": "7bcc6294-88d3-4c22-e3dd-7577c97c0a8f"
      },
      "execution_count": null,
      "outputs": [
        {
          "output_type": "stream",
          "name": "stdout",
          "text": [
            "   one  two     three\n",
            "e  4.0    4  0.758955\n",
            "f  5.0    5 -0.661389\n",
            "g  NaN    6 -0.993753\n"
          ]
        }
      ]
    },
    {
      "cell_type": "code",
      "source": [
        "import scipy.stats as sps\n",
        "import pandas as pd\n",
        "d = {'one': pd.Series(range(6), index=list('abcdef')),\n",
        " 'two': pd.Series(range(7), index=list('abcdefg')),\n",
        " 'three': pd.Series(sps.norm.rvs(size=7),\n",
        "index=list('abcdefg'))}\n",
        "df = pd.DataFrame(d)\n",
        "print(df.index)"
      ],
      "metadata": {
        "id": "2P9ZNkXVzRQU",
        "colab": {
          "base_uri": "https://localhost:8080/"
        },
        "outputId": "b7c26596-2e25-4cec-9a42-a7efd7462f3d"
      },
      "execution_count": null,
      "outputs": [
        {
          "output_type": "stream",
          "name": "stdout",
          "text": [
            "Index(['a', 'b', 'c', 'd', 'e', 'f', 'g'], dtype='object')\n"
          ]
        }
      ]
    },
    {
      "cell_type": "code",
      "source": [
        "import scipy.stats as sps\n",
        "import pandas as pd\n",
        "d = {'one': pd.Series(range(6), index=list('abcdef')),\n",
        " 'two': pd.Series(range(7), index=list('abcdefg')),\n",
        " 'three': pd.Series(sps.norm.rvs(size=7),\n",
        "index=list('abcdefg'))}\n",
        "df = pd.DataFrame(d)\n",
        "print(df.columns)"
      ],
      "metadata": {
        "id": "9F5pYIc8zRSx",
        "colab": {
          "base_uri": "https://localhost:8080/"
        },
        "outputId": "27249e18-e233-49c0-818b-9d2104050357"
      },
      "execution_count": null,
      "outputs": [
        {
          "output_type": "stream",
          "name": "stdout",
          "text": [
            "Index(['one', 'two', 'three'], dtype='object')\n"
          ]
        }
      ]
    },
    {
      "cell_type": "code",
      "source": [
        "import scipy.stats as sps\n",
        "import pandas as pd\n",
        "d = {'one': pd.Series(range(6), index=list('abcdef')),\n",
        " 'two': pd.Series(range(7), index=list('abcdefg')),\n",
        " 'three': pd.Series(sps.norm.rvs(size=7),\n",
        "index=list('abcdefg'))}\n",
        "df = pd.DataFrame(d)\n",
        "print(df.columns)"
      ],
      "metadata": {
        "colab": {
          "base_uri": "https://localhost:8080/"
        },
        "id": "3qylFN315rdl",
        "outputId": "74531f27-183c-4ab7-ca8b-27e6423f8add"
      },
      "execution_count": null,
      "outputs": [
        {
          "output_type": "stream",
          "name": "stdout",
          "text": [
            "Index(['one', 'two', 'three'], dtype='object')\n"
          ]
        }
      ]
    },
    {
      "cell_type": "code",
      "source": [
        "import scipy.stats as sps\n",
        "import pandas as pd\n",
        "d = {'one': pd.Series(range(6), index=list('abcdef')),\n",
        " 'two': pd.Series(range(7), index=list('abcdefg')),\n",
        " 'three': pd.Series(sps.norm.rvs(size=7), \n",
        "index=list('abcdefg'))}\n",
        "df = pd.DataFrame(d)\n",
        "print(df.describe())"
      ],
      "metadata": {
        "colab": {
          "base_uri": "https://localhost:8080/"
        },
        "id": "Vq-imJXK5rgY",
        "outputId": "ee5c143a-5b96-4034-f20b-4db89053228e"
      },
      "execution_count": null,
      "outputs": [
        {
          "output_type": "stream",
          "name": "stdout",
          "text": [
            "            one       two     three\n",
            "count  6.000000  7.000000  7.000000\n",
            "mean   2.500000  3.000000 -0.099018\n",
            "std    1.870829  2.160247  0.894234\n",
            "min    0.000000  0.000000 -1.382658\n",
            "25%    1.250000  1.500000 -0.543727\n",
            "50%    2.500000  3.000000 -0.124725\n",
            "75%    3.750000  4.500000  0.262670\n",
            "max    5.000000  6.000000  1.376375\n"
          ]
        }
      ]
    },
    {
      "cell_type": "code",
      "source": [
        "import scipy.stats as sps\n",
        "import pandas as pd\n",
        "d = {'one': pd.Series(range(6), index=list('abcdef')),\n",
        " 'two': pd.Series(range(7), index=list('abcdefg')),\n",
        " 'three': pd.Series(sps.norm.rvs(size=7),\n",
        "index=list('abcdefg'))}\n",
        "df = pd.DataFrame(d)\n",
        "print(df.T)"
      ],
      "metadata": {
        "colab": {
          "base_uri": "https://localhost:8080/"
        },
        "id": "BjBknBwe5rjl",
        "outputId": "18e8eaf7-dc39-4bfa-e4b0-d978285457d7"
      },
      "execution_count": null,
      "outputs": [
        {
          "output_type": "stream",
          "name": "stdout",
          "text": [
            "              a         b         c         d        e         f        g\n",
            "one    0.000000  1.000000  2.000000  3.000000  4.00000  5.000000      NaN\n",
            "two    0.000000  1.000000  2.000000  3.000000  4.00000  5.000000  6.00000\n",
            "three -0.835134  2.190061  0.018766  0.714554 -0.44185  1.091384  0.08263\n"
          ]
        }
      ]
    },
    {
      "cell_type": "code",
      "source": [
        "import scipy.stats as sps\n",
        "import pandas as pd\n",
        "d = {'one': pd.Series(range(6), index=list('abcdef')),\n",
        " 'two': pd.Series(range(7), index=list('abcdefg')),\n",
        " 'three': pd.Series(sps.norm.rvs(size=7),\n",
        "index=list('abcdefg'))}\n",
        "df = pd.DataFrame(d)\n",
        "print(df.sort_values(by='three', ascending=False))"
      ],
      "metadata": {
        "colab": {
          "base_uri": "https://localhost:8080/"
        },
        "id": "s4vVocyF5rmP",
        "outputId": "6f013e09-91db-43a7-e8a4-f8a4f3c1a3c2"
      },
      "execution_count": null,
      "outputs": [
        {
          "output_type": "stream",
          "name": "stdout",
          "text": [
            "   one  two     three\n",
            "b  1.0    1  1.917081\n",
            "d  3.0    3  1.029056\n",
            "e  4.0    4  0.567046\n",
            "a  0.0    0  0.094678\n",
            "f  5.0    5 -0.095480\n",
            "c  2.0    2 -0.512351\n",
            "g  NaN    6 -1.294475\n"
          ]
        }
      ]
    },
    {
      "cell_type": "code",
      "source": [
        "import scipy.stats as sps\n",
        "import pandas as pd\n",
        "# ВАШ КОД\n",
        "df=pd.DataFrame(\n",
        " sps.norm.rvs(size=(100, 3)),\n",
        " columns=['x', 'y', 'z']\n",
        ").sort_values(by=['x', 'y', 'z'])\n",
        "print(df)"
      ],
      "metadata": {
        "colab": {
          "base_uri": "https://localhost:8080/"
        },
        "id": "W3hYSqPq5rox",
        "outputId": "6fa952c4-aab6-4d4f-e1c7-4a4ae13d48bb"
      },
      "execution_count": null,
      "outputs": [
        {
          "output_type": "stream",
          "name": "stdout",
          "text": [
            "           x         y         z\n",
            "70 -3.914887  0.088553  0.496122\n",
            "49 -2.499019  1.494311  0.551416\n",
            "17 -2.177145 -0.539872  0.118255\n",
            "88 -1.900027 -0.767397  0.440103\n",
            "64 -1.896172 -1.161653 -0.885588\n",
            "..       ...       ...       ...\n",
            "86  1.607370  2.014614 -1.116795\n",
            "13  1.610675  1.134576  1.025264\n",
            "90  1.839102  0.155191 -1.435110\n",
            "96  1.949411 -1.583334  0.678616\n",
            "47  2.104954 -1.587827 -1.517514\n",
            "\n",
            "[100 rows x 3 columns]\n"
          ]
        }
      ]
    },
    {
      "cell_type": "code",
      "source": [
        "import scipy.stats as sps\n",
        "import pandas as pd\n",
        "d = {'one': pd.Series(range(6), index=list('abcdef')),\n",
        " 'two': pd.Series(range(7), index=list('abcdefg')),\n",
        " 'three': pd.Series(sps.norm.rvs(size=7),\n",
        "index=list('abcdefg'))}\n",
        "df = pd.DataFrame(d)\n",
        "print(df['one'])"
      ],
      "metadata": {
        "colab": {
          "base_uri": "https://localhost:8080/"
        },
        "id": "cil9OVWU5rrg",
        "outputId": "4c51dbaa-0629-4dac-b7e3-a23c335b46ec"
      },
      "execution_count": null,
      "outputs": [
        {
          "output_type": "stream",
          "name": "stdout",
          "text": [
            "a    0.0\n",
            "b    1.0\n",
            "c    2.0\n",
            "d    3.0\n",
            "e    4.0\n",
            "f    5.0\n",
            "g    NaN\n",
            "Name: one, dtype: float64\n"
          ]
        }
      ]
    },
    {
      "cell_type": "code",
      "source": [
        "import scipy.stats as sps\n",
        "import pandas as pd\n",
        "d = {'one': pd.Series(range(6), index=list('abcdef')),\n",
        " 'two': pd.Series(range(7), index=list('abcdefg')),\n",
        " 'three': pd.Series(sps.norm.rvs(size=7),\n",
        "index=list('abcdefg'))}\n",
        "df = pd.DataFrame(d)\n",
        "print(df.one)"
      ],
      "metadata": {
        "colab": {
          "base_uri": "https://localhost:8080/"
        },
        "id": "dDrmx8rz5ruK",
        "outputId": "ff3d1b38-04d4-4af4-d60f-11ca9b78bdd5"
      },
      "execution_count": null,
      "outputs": [
        {
          "output_type": "stream",
          "name": "stdout",
          "text": [
            "a    0.0\n",
            "b    1.0\n",
            "c    2.0\n",
            "d    3.0\n",
            "e    4.0\n",
            "f    5.0\n",
            "g    NaN\n",
            "Name: one, dtype: float64\n"
          ]
        }
      ]
    },
    {
      "cell_type": "code",
      "source": [
        "import scipy.stats as sps\n",
        "import pandas as pd\n",
        "d = {'one': pd.Series(range(6), index=list('abcdef')),\n",
        " 'two': pd.Series(range(7), index=list('abcdefg')),\n",
        " 'three': pd.Series(sps.norm.rvs(size=7),\n",
        "index=list('abcdefg'))}\n",
        "df = pd.DataFrame(d)\n",
        "print(df['one'].index)"
      ],
      "metadata": {
        "colab": {
          "base_uri": "https://localhost:8080/"
        },
        "id": "AVgE6Whf5rxW",
        "outputId": "f13b8799-52da-444a-b872-23ad3520061c"
      },
      "execution_count": null,
      "outputs": [
        {
          "output_type": "stream",
          "name": "stdout",
          "text": [
            "Index(['a', 'b', 'c', 'd', 'e', 'f', 'g'], dtype='object')\n"
          ]
        }
      ]
    },
    {
      "cell_type": "code",
      "source": [
        "import scipy.stats as sps\n",
        "import pandas as pd\n",
        "d = {'one': pd.Series(range(6), index=list('abcdef')),\n",
        " 'two': pd.Series(range(7), index=list('abcdefg')),\n",
        " 'three': pd.Series(sps.norm.rvs(size=7),\n",
        "index=list('abcdefg'))}\n",
        "df = pd.DataFrame(d)\n",
        "print(df['one'].name)"
      ],
      "metadata": {
        "colab": {
          "base_uri": "https://localhost:8080/"
        },
        "id": "FxhLggbF6NYO",
        "outputId": "19376866-1ee4-4137-c93a-cee129967adc"
      },
      "execution_count": null,
      "outputs": [
        {
          "output_type": "stream",
          "name": "stdout",
          "text": [
            "one\n"
          ]
        }
      ]
    },
    {
      "cell_type": "code",
      "source": [
        "import scipy.stats as sps\n",
        "import pandas as pd\n",
        "d = {'one': pd.Series(range(6), index=list('abcdef')),\n",
        " 'two': pd.Series(range(7), index=list('abcdefg')),\n",
        " 'three': pd.Series(sps.norm.rvs(size=7),\n",
        "index=list('abcdefg'))}\n",
        "df = pd.DataFrame(d)\n",
        "print(df['one']['c'])"
      ],
      "metadata": {
        "colab": {
          "base_uri": "https://localhost:8080/"
        },
        "id": "4heu4ukQ6Nbk",
        "outputId": "be8fe439-8c31-4d5a-9926-9138d3e6d9eb"
      },
      "execution_count": null,
      "outputs": [
        {
          "output_type": "stream",
          "name": "stdout",
          "text": [
            "2.0\n"
          ]
        }
      ]
    },
    {
      "cell_type": "code",
      "source": [
        "import scipy.stats as sps\n",
        "import pandas as pd\n",
        "d = {'one': pd.Series(range(6), index=list('abcdef')),\n",
        " 'two': pd.Series(range(7), index=list('abcdefg')),\n",
        " 'three': pd.Series(sps.norm.rvs(size=7),\n",
        "index=list('abcdefg'))}\n",
        "df = pd.DataFrame(d)\n",
        "print(df['b':'d'])"
      ],
      "metadata": {
        "colab": {
          "base_uri": "https://localhost:8080/"
        },
        "id": "orGIryT96Njr",
        "outputId": "caf6030f-f07a-459a-8d28-23c29ec8323d"
      },
      "execution_count": null,
      "outputs": [
        {
          "output_type": "stream",
          "name": "stdout",
          "text": [
            "   one  two     three\n",
            "b  1.0    1 -0.399266\n",
            "c  2.0    2 -0.361144\n",
            "d  3.0    3 -2.195312\n"
          ]
        }
      ]
    },
    {
      "cell_type": "code",
      "source": [
        "import scipy.stats as sps\n",
        "import pandas as pd\n",
        "d = {'one': pd.Series(range(6), index=list('abcdef')),\n",
        " 'two': pd.Series(range(7), index=list('abcdefg')),\n",
        " 'three': pd.Series(sps.norm.rvs(size=7),\n",
        "index=list('abcdefg'))}\n",
        "df = pd.DataFrame(d)\n",
        "print(df[1:3])"
      ],
      "metadata": {
        "colab": {
          "base_uri": "https://localhost:8080/"
        },
        "id": "2fD0ZPkf6Nm5",
        "outputId": "7eb96be2-0e51-4aa0-a05a-b15a61be237a"
      },
      "execution_count": null,
      "outputs": [
        {
          "output_type": "stream",
          "name": "stdout",
          "text": [
            "   one  two     three\n",
            "b  1.0    1  0.553334\n",
            "c  2.0    2  1.171030\n"
          ]
        }
      ]
    },
    {
      "cell_type": "code",
      "source": [
        "import scipy.stats as sps\n",
        "import pandas as pd\n",
        "d = {'one': pd.Series(range(6), index=list('abcdef')),\n",
        " 'two': pd.Series(range(7), index=list('abcdefg')),\n",
        " 'three': pd.Series(sps.norm.rvs(size=7),\n",
        "index=list('abcdefg'))}\n",
        "df = pd.DataFrame(d)\n",
        "print(df.loc['b'])"
      ],
      "metadata": {
        "colab": {
          "base_uri": "https://localhost:8080/"
        },
        "id": "X_52nu8C6NqV",
        "outputId": "c8117d1b-f110-44d7-9815-fdf96f498a1e"
      },
      "execution_count": null,
      "outputs": [
        {
          "output_type": "stream",
          "name": "stdout",
          "text": [
            "one      1.000000\n",
            "two      1.000000\n",
            "three   -0.281594\n",
            "Name: b, dtype: float64\n"
          ]
        }
      ]
    },
    {
      "cell_type": "code",
      "source": [
        "import scipy.stats as sps\n",
        "import pandas as pd\n",
        "d = {'one': pd.Series(range(6), index=list('abcdef')),\n",
        " 'two': pd.Series(range(7), index=list('abcdefg')),\n",
        " 'three': pd.Series(sps.norm.rvs(size=7),\n",
        "index=list('abcdefg'))}\n",
        "df = pd.DataFrame(d)\n",
        "print(df.loc['b', 'one'])"
      ],
      "metadata": {
        "colab": {
          "base_uri": "https://localhost:8080/"
        },
        "id": "jXNzOgBx5r0Z",
        "outputId": "9f3d0e92-949d-4123-b139-3ec4a14c771f"
      },
      "execution_count": null,
      "outputs": [
        {
          "output_type": "stream",
          "name": "stdout",
          "text": [
            "1.0\n"
          ]
        }
      ]
    },
    {
      "cell_type": "code",
      "source": [
        "import scipy.stats as sps\n",
        "import pandas as pd\n",
        "d = {'one': pd.Series(range(6), index=list('abcdef')),\n",
        " 'two': pd.Series(range(7), index=list('abcdefg')),\n",
        " 'three': pd.Series(sps.norm.rvs(size=7),\n",
        "index=list('abcdefg'))}\n",
        "df = pd.DataFrame(d)\n",
        "print(df.loc['a':'b', 'one'])"
      ],
      "metadata": {
        "colab": {
          "base_uri": "https://localhost:8080/"
        },
        "id": "U2dR0QBH5r3N",
        "outputId": "101acede-da87-4347-f411-bc7db6068131"
      },
      "execution_count": null,
      "outputs": [
        {
          "output_type": "stream",
          "name": "stdout",
          "text": [
            "a    0.0\n",
            "b    1.0\n",
            "Name: one, dtype: float64\n"
          ]
        }
      ]
    },
    {
      "cell_type": "code",
      "source": [
        "import scipy.stats as sps\n",
        "import pandas as pd\n",
        "d = {'one': pd.Series(range(6), index=list('abcdef')),\n",
        " 'two': pd.Series(range(7), index=list('abcdefg')),\n",
        " 'three': pd.Series(sps.norm.rvs(size=7),\n",
        "index=list('abcdefg'))}\n",
        "df = pd.DataFrame(d)\n",
        "print(df.loc['a':'b', :])"
      ],
      "metadata": {
        "colab": {
          "base_uri": "https://localhost:8080/"
        },
        "id": "c7pJ8cgm7aL_",
        "outputId": "a5dd7c30-2b4c-4505-98a0-0d0fab076ca9"
      },
      "execution_count": null,
      "outputs": [
        {
          "output_type": "stream",
          "name": "stdout",
          "text": [
            "   one  two     three\n",
            "a  0.0    0  0.128598\n",
            "b  1.0    1 -0.364790\n"
          ]
        }
      ]
    },
    {
      "cell_type": "code",
      "source": [
        "import scipy.stats as sps\n",
        "import pandas as pd\n",
        "d = {'one': pd.Series(range(6), index=list('abcdef')),\n",
        " 'two': pd.Series(range(7), index=list('abcdefg')),\n",
        " 'three': pd.Series(sps.norm.rvs(size=7),\n",
        "index=list('abcdefg'))}\n",
        "df = pd.DataFrame(d)\n",
        "print(df.loc[:, 'one'])"
      ],
      "metadata": {
        "colab": {
          "base_uri": "https://localhost:8080/"
        },
        "id": "iRxtoWb-7aPF",
        "outputId": "5103914e-e919-4bca-f4c5-de584302afdd"
      },
      "execution_count": null,
      "outputs": [
        {
          "output_type": "stream",
          "name": "stdout",
          "text": [
            "a    0.0\n",
            "b    1.0\n",
            "c    2.0\n",
            "d    3.0\n",
            "e    4.0\n",
            "f    5.0\n",
            "g    NaN\n",
            "Name: one, dtype: float64\n"
          ]
        }
      ]
    },
    {
      "cell_type": "code",
      "source": [
        "import scipy.stats as sps\n",
        "import pandas as pd\n",
        "d = {'one': pd.Series(range(6), index=list('abcdef')),\n",
        " 'two': pd.Series(range(7), index=list('abcdefg')),\n",
        " 'three': pd.Series(sps.norm.rvs(size=7),\n",
        "index=list('abcdefg'))}\n",
        "df = pd.DataFrame(d)\n",
        "print(df.iloc[2])"
      ],
      "metadata": {
        "colab": {
          "base_uri": "https://localhost:8080/"
        },
        "id": "-MJR8_O_7aRe",
        "outputId": "589e106c-fb28-4f2e-cc44-ecfacb3c6810"
      },
      "execution_count": null,
      "outputs": [
        {
          "output_type": "stream",
          "name": "stdout",
          "text": [
            "one      2.000000\n",
            "two      2.000000\n",
            "three    2.124903\n",
            "Name: c, dtype: float64\n"
          ]
        }
      ]
    },
    {
      "cell_type": "code",
      "source": [
        "import scipy.stats as sps\n",
        "import pandas as pd\n",
        "d = {'one': pd.Series(range(6), index=list('abcdef')),\n",
        " 'two': pd.Series(range(7), index=list('abcdefg')),\n",
        " 'three': pd.Series(sps.norm.rvs(size=7),\n",
        "index=list('abcdefg'))}\n",
        "df = pd.DataFrame(d)\n",
        "print(df.iloc[1:3])"
      ],
      "metadata": {
        "colab": {
          "base_uri": "https://localhost:8080/"
        },
        "id": "UJQe0uEp7aUK",
        "outputId": "658f17ea-b160-4bf1-c0c3-cc4ad476a51f"
      },
      "execution_count": null,
      "outputs": [
        {
          "output_type": "stream",
          "name": "stdout",
          "text": [
            "   one  two     three\n",
            "b  1.0    1 -0.395905\n",
            "c  2.0    2  1.047997\n"
          ]
        }
      ]
    },
    {
      "cell_type": "code",
      "source": [
        "import scipy.stats as sps\n",
        "import pandas as pd\n",
        "d = {'one': pd.Series(range(6), index=list('abcdef')),\n",
        " 'two': pd.Series(range(7), index=list('abcdefg')),\n",
        " 'three': pd.Series(sps.norm.rvs(size=7),\n",
        "index=list('abcdefg'))}\n",
        "df = pd.DataFrame(d)\n",
        "print(df.iloc[1:3, 0:2])"
      ],
      "metadata": {
        "id": "KhCCtrHE7aWx",
        "colab": {
          "base_uri": "https://localhost:8080/"
        },
        "outputId": "1062a9eb-9091-471a-b2fa-e4ec3e3bec13"
      },
      "execution_count": null,
      "outputs": [
        {
          "output_type": "stream",
          "name": "stdout",
          "text": [
            "   one  two\n",
            "b  1.0    1\n",
            "c  2.0    2\n"
          ]
        }
      ]
    },
    {
      "cell_type": "code",
      "source": [
        "import scipy.stats as sps\n",
        "import pandas as pd\n",
        "d = {'one': pd.Series(range(6), index=list('abcdef')),\n",
        " 'two': pd.Series(range(7), index=list('abcdefg')),\n",
        " 'three': pd.Series(sps.norm.rvs(size=7),\n",
        "index=list('abcdefg'))}\n",
        "df = pd.DataFrame(d)\n",
        "print(df[df.three > 0])"
      ],
      "metadata": {
        "id": "pW75MZzZ7aZs",
        "colab": {
          "base_uri": "https://localhost:8080/"
        },
        "outputId": "90af3911-c9c8-4542-f7e8-18640def9512"
      },
      "execution_count": null,
      "outputs": [
        {
          "output_type": "stream",
          "name": "stdout",
          "text": [
            "   one  two     three\n",
            "a  0.0    0  0.374714\n",
            "b  1.0    1  1.134646\n",
            "c  2.0    2  0.596579\n",
            "d  3.0    3  1.689262\n",
            "e  4.0    4  0.161953\n",
            "f  5.0    5  0.355865\n",
            "g  NaN    6  0.560799\n"
          ]
        }
      ]
    },
    {
      "cell_type": "code",
      "source": [
        "import numpy as np\n",
        "import pandas as pd\n",
        "import scipy.stats as sps\n",
        "# ВАШ КОД\n",
        "# создаем матрицу\n",
        "n, m = 20, 10\n",
        "data = sps.randint(low=-100, high=100).rvs(size=(n, m))\n",
        "cols = np.arange(1, m + 1)\n",
        "np.random.shuffle(cols)\n",
        "# создаем таблицу\n",
        "task_df = pd.DataFrame(data, columns=cols)\n",
        "# задаем условия для строк и столбцов\n",
        "col_mask = (cols % 2) == 0\n",
        "row_mask = np.sum(data % 2, axis=1) < (m / 2)\n",
        "# извлекаем данные по условию\n",
        "print(task_df.loc[row_mask, col_mask])"
      ],
      "metadata": {
        "id": "QaWzjLRy7acX",
        "colab": {
          "base_uri": "https://localhost:8080/"
        },
        "outputId": "64453ea3-0584-4ff4-abf2-a7463cf1f469"
      },
      "execution_count": null,
      "outputs": [
        {
          "output_type": "stream",
          "name": "stdout",
          "text": [
            "    8   2   6   4   10\n",
            "1  -88  61  61 -31   2\n",
            "5   45 -97   2 -92  38\n",
            "8   38  42  -2 -83  -5\n",
            "10 -24   8  93 -58  49\n",
            "13  12 -96  59  98  69\n",
            "17  78 -58  39  49 -18\n",
            "18   3 -80  48  22  63\n"
          ]
        }
      ]
    },
    {
      "cell_type": "code",
      "source": [
        "import scipy.stats as sps\n",
        "import pandas as pd\n",
        "d = {'one': pd.Series(range(6), index=list('abcdef')),\n",
        " 'two': pd.Series(range(7), index=list('abcdefg')),\n",
        " 'three': pd.Series(sps.norm.rvs(size=7),\n",
        "index=list('abcdefg'))}\n",
        "df = pd.DataFrame(d)\n",
        "df['4th'] = df['one'] * df['two']\n",
        "df['flag'] = df['two'] > 2\n",
        "print(df)"
      ],
      "metadata": {
        "colab": {
          "base_uri": "https://localhost:8080/"
        },
        "id": "28UQBJcm9xJ2",
        "outputId": "045c5517-d7d5-402d-c9e6-a8965e158c20"
      },
      "execution_count": null,
      "outputs": [
        {
          "output_type": "stream",
          "name": "stdout",
          "text": [
            "   one  two     three   4th   flag\n",
            "a  0.0    0 -0.758015   0.0  False\n",
            "b  1.0    1  1.433902   1.0  False\n",
            "c  2.0    2 -0.389293   4.0  False\n",
            "d  3.0    3 -1.320762   9.0   True\n",
            "e  4.0    4  0.323556  16.0   True\n",
            "f  5.0    5  0.522885  25.0   True\n",
            "g  NaN    6  0.422517   NaN   True\n"
          ]
        }
      ]
    },
    {
      "cell_type": "code",
      "source": [
        "import scipy.stats as sps\n",
        "import pandas as pd\n",
        "d = {'one': pd.Series(range(6), index=list('abcdef')),\n",
        " 'two': pd.Series(range(7), index=list('abcdefg')),\n",
        " 'three': pd.Series(sps.norm.rvs(size=7),\n",
        "index=list('abcdefg'))}\n",
        "df = pd.DataFrame(d)\n",
        "del df['two']\n",
        "df['foo'] = 0\n",
        "print(df)"
      ],
      "metadata": {
        "colab": {
          "base_uri": "https://localhost:8080/"
        },
        "id": "l_udQl539xNN",
        "outputId": "ca1bb1a9-9e96-4873-c04a-b0a0c37e3687"
      },
      "execution_count": null,
      "outputs": [
        {
          "output_type": "stream",
          "name": "stdout",
          "text": [
            "   one     three  foo\n",
            "a  0.0  0.507312    0\n",
            "b  1.0  0.597566    0\n",
            "c  2.0  0.897325    0\n",
            "d  3.0  0.660322    0\n",
            "e  4.0 -0.940080    0\n",
            "f  5.0 -0.068598    0\n",
            "g  NaN  0.643377    0\n"
          ]
        }
      ]
    },
    {
      "cell_type": "code",
      "source": [
        "import scipy.stats as sps\n",
        "import pandas as pd\n",
        "d = {'one': pd.Series(range(6), index=list('abcdef')),\n",
        " 'two': pd.Series(range(7), index=list('abcdefg')),\n",
        " 'three': pd.Series(sps.norm.rvs(size=7),\n",
        "index=list('abcdefg'))}\n",
        "df = pd.DataFrame(d)\n",
        "df.iat[1, 0] = -1\n",
        "# Эквивалентные формы:\n",
        "# df['one']['b'] = -1 <-- SettingWithCopyWarning\n",
        "# df.at['b', 'one'] = -1\n",
        "print(df)"
      ],
      "metadata": {
        "colab": {
          "base_uri": "https://localhost:8080/"
        },
        "id": "JMI9o6nj9xQL",
        "outputId": "17d94211-0740-485f-e487-243eb9365d31"
      },
      "execution_count": null,
      "outputs": [
        {
          "output_type": "stream",
          "name": "stdout",
          "text": [
            "   one  two     three\n",
            "a  0.0    0 -0.419455\n",
            "b -1.0    1 -1.074652\n",
            "c  2.0    2 -0.865707\n",
            "d  3.0    3 -0.972195\n",
            "e  4.0    4  1.551971\n",
            "f  5.0    5 -0.215970\n",
            "g  NaN    6 -0.288159\n"
          ]
        }
      ]
    },
    {
      "cell_type": "code",
      "source": [
        "import scipy.stats as sps\n",
        "import pandas as pd\n",
        "d = {'one': pd.Series(range(6), index=list('abcdef')),\n",
        " 'two': pd.Series(range(7), index=list('abcdefg')),\n",
        " 'three': pd.Series(sps.norm.rvs(size=7),\n",
        "index=list('abcdefg'))}\n",
        "df = pd.DataFrame(d)\n",
        "df['one_tr'] = df['one'][:3]\n",
        "print(df)"
      ],
      "metadata": {
        "colab": {
          "base_uri": "https://localhost:8080/"
        },
        "id": "3iws0m4R9xTC",
        "outputId": "2c00094a-0f97-4846-b7b7-3c40304474f3"
      },
      "execution_count": null,
      "outputs": [
        {
          "output_type": "stream",
          "name": "stdout",
          "text": [
            "   one  two     three  one_tr\n",
            "a  0.0    0  0.382694     0.0\n",
            "b  1.0    1  1.282038     1.0\n",
            "c  2.0    2  0.140098     2.0\n",
            "d  3.0    3  0.203246     NaN\n",
            "e  4.0    4 -0.546094     NaN\n",
            "f  5.0    5 -0.555736     NaN\n",
            "g  NaN    6  0.126853     NaN\n"
          ]
        }
      ]
    },
    {
      "cell_type": "code",
      "source": [
        "import scipy.stats as sps\n",
        "import pandas as pd\n",
        "d = {'one': pd.Series(range(6), index=list('abcdef')),\n",
        " 'two': pd.Series(range(7), index=list('abcdefg')),\n",
        " 'three': pd.Series(sps.norm.rvs(size=7),\n",
        "index=list('abcdefg'))}\n",
        "df = pd.DataFrame(d)\n",
        "print(df.dropna(how='any'))"
      ],
      "metadata": {
        "colab": {
          "base_uri": "https://localhost:8080/"
        },
        "id": "8HX973tP3fuh",
        "outputId": "1fd11c73-6cb9-4cac-ac6d-92eb3b2ead12"
      },
      "execution_count": null,
      "outputs": [
        {
          "output_type": "stream",
          "name": "stdout",
          "text": [
            "   one  two     three\n",
            "a  0.0    0 -3.007925\n",
            "b  1.0    1 -0.572700\n",
            "c  2.0    2 -2.220280\n",
            "d  3.0    3 -1.738745\n",
            "e  4.0    4  1.201219\n",
            "f  5.0    5 -0.061925\n"
          ]
        }
      ]
    },
    {
      "cell_type": "code",
      "source": [
        "import scipy.stats as sps\n",
        "import pandas as pd\n",
        "d = {'one': pd.Series(range(6), index=list('abcdef')),\n",
        " 'two': pd.Series(range(7), index=list('abcdefg')),\n",
        " 'three': pd.Series(sps.norm.rvs(size=7),\n",
        "index=list('abcdefg'))}\n",
        "df = pd.DataFrame(d)\n",
        "df['4th'] = df['one'] * df['two']\n",
        "df['flag'] = df['two'] > 2\n",
        "del df['two']\n",
        "df['foo'] = 0\n",
        "df['one_tr'] = df['one'][:3]\n",
        "print(df.fillna(value=666))"
      ],
      "metadata": {
        "colab": {
          "base_uri": "https://localhost:8080/"
        },
        "id": "qNVBISx23f2E",
        "outputId": "5cd11187-2d7b-4b06-9949-2669079e16c3"
      },
      "execution_count": null,
      "outputs": [
        {
          "output_type": "stream",
          "name": "stdout",
          "text": [
            "     one     three    4th   flag  foo  one_tr\n",
            "a    0.0  0.997526    0.0  False    0     0.0\n",
            "b    1.0  0.138958    1.0  False    0     1.0\n",
            "c    2.0  0.621909    4.0  False    0     2.0\n",
            "d    3.0  1.869966    9.0   True    0   666.0\n",
            "e    4.0 -0.613934   16.0   True    0   666.0\n",
            "f    5.0  1.535430   25.0   True    0   666.0\n",
            "g  666.0  1.148879  666.0   True    0   666.0\n"
          ]
        }
      ]
    },
    {
      "cell_type": "code",
      "source": [
        "import scipy.stats as sps\n",
        "import pandas as pd\n",
        "d = {'one': pd.Series(range(6), index=list('abcdef')),\n",
        " 'two': pd.Series(range(7), index=list('abcdefg')),\n",
        " 'three': pd.Series(sps.norm.rvs(size=7),\n",
        "index=list('abcdefg'))}\n",
        "df = pd.DataFrame(d)\n",
        "df['4th'] = df['one'] * df['two']\n",
        "df['flag'] = df['two'] > 2\n",
        "del df['two']\n",
        "df['foo'] = 0\n",
        "df['one_tr'] = df['one'][:3]\n",
        "print(df.fillna(value=df.mean()))"
      ],
      "metadata": {
        "colab": {
          "base_uri": "https://localhost:8080/"
        },
        "id": "x6EZqJhA3f7R",
        "outputId": "4c8e7286-7c9f-46d7-b28e-0ee895d46e0d"
      },
      "execution_count": null,
      "outputs": [
        {
          "output_type": "stream",
          "name": "stdout",
          "text": [
            "   one     three        4th   flag  foo  one_tr\n",
            "a  0.0  0.326824   0.000000  False    0     0.0\n",
            "b  1.0  1.269156   1.000000  False    0     1.0\n",
            "c  2.0  0.154097   4.000000  False    0     2.0\n",
            "d  3.0 -0.457502   9.000000   True    0     1.0\n",
            "e  4.0 -0.869381  16.000000   True    0     1.0\n",
            "f  5.0  0.075812  25.000000   True    0     1.0\n",
            "g  2.5  0.068000   9.166667   True    0     1.0\n"
          ]
        }
      ]
    },
    {
      "cell_type": "code",
      "source": [
        "import scipy.stats as sps\n",
        "import pandas as pd\n",
        "d = {'one': pd.Series(range(6), index=list('abcdef')),\n",
        " 'two': pd.Series(range(7), index=list('abcdefg')),\n",
        " 'three': pd.Series(sps.norm.rvs(size=7),\n",
        "index=list('abcdefg'))}\n",
        "df = pd.DataFrame(d)\n",
        "df['4th'] = df['one'] * df['two']\n",
        "df['flag'] = df['two'] > 2\n",
        "del df['two']\n",
        "df['foo'] = 0\n",
        "df['one_tr'] = df['one'][:3]\n",
        "print(df.isnull())"
      ],
      "metadata": {
        "colab": {
          "base_uri": "https://localhost:8080/"
        },
        "id": "IpdW047U3f_C",
        "outputId": "3dd00596-f016-411f-e68c-4cd930132c56"
      },
      "execution_count": null,
      "outputs": [
        {
          "output_type": "stream",
          "name": "stdout",
          "text": [
            "     one  three    4th   flag    foo  one_tr\n",
            "a  False  False  False  False  False   False\n",
            "b  False  False  False  False  False   False\n",
            "c  False  False  False  False  False   False\n",
            "d  False  False  False  False  False    True\n",
            "e  False  False  False  False  False    True\n",
            "f  False  False  False  False  False    True\n",
            "g   True  False   True  False  False    True\n"
          ]
        }
      ]
    },
    {
      "cell_type": "code",
      "source": [
        "import scipy.stats as sps\n",
        "import pandas as pd\n",
        "df = pd.DataFrame(sps.uniform.rvs(size=(10, 4)),\n",
        " columns=['A', 'B', 'C', 'D'])\n",
        "print(df)"
      ],
      "metadata": {
        "colab": {
          "base_uri": "https://localhost:8080/"
        },
        "id": "D89Xjr4f3gCA",
        "outputId": "03dfad64-9404-48a1-e51f-c0eb247ca5ac"
      },
      "execution_count": null,
      "outputs": [
        {
          "output_type": "stream",
          "name": "stdout",
          "text": [
            "          A         B         C         D\n",
            "0  0.157934  0.934058  0.665877  0.210166\n",
            "1  0.249553  0.648966  0.820422  0.664210\n",
            "2  0.290046  0.455291  0.794154  0.959707\n",
            "3  0.036118  0.327267  0.882201  0.999931\n",
            "4  0.760868  0.423819  0.708395  0.074959\n",
            "5  0.772472  0.719558  0.714414  0.783510\n",
            "6  0.537233  0.164952  0.886422  0.989126\n",
            "7  0.188668  0.319260  0.138329  0.802412\n",
            "8  0.909422  0.398926  0.790193  0.553438\n",
            "9  0.596742  0.624005  0.171976  0.764219\n"
          ]
        }
      ]
    },
    {
      "cell_type": "code",
      "source": [
        "import scipy.stats as sps\n",
        "import pandas as pd\n",
        "df= pd.DataFrame(sps.uniform.rvs(size=(7, 3)),\n",
        " columns=['A', 'B', 'C'])\n",
        "print(df)"
      ],
      "metadata": {
        "colab": {
          "base_uri": "https://localhost:8080/"
        },
        "id": "kOKgOpYC3gEk",
        "outputId": "ea055e5f-41a9-412f-c6d6-ac49bcc7fbc4"
      },
      "execution_count": null,
      "outputs": [
        {
          "output_type": "stream",
          "name": "stdout",
          "text": [
            "          A         B         C\n",
            "0  0.276070  0.395717  0.994506\n",
            "1  0.691249  0.023254  0.383138\n",
            "2  0.657335  0.572988  0.094491\n",
            "3  0.422720  0.654557  0.881286\n",
            "4  0.274477  0.900958  0.544361\n",
            "5  0.428420  0.957485  0.333378\n",
            "6  0.384360  0.147004  0.487069\n"
          ]
        }
      ]
    },
    {
      "cell_type": "code",
      "source": [
        "import scipy.stats as sps\n",
        "import pandas as pd\n",
        "df1 = pd.DataFrame(sps.uniform.rvs(size=(10, 4)),\n",
        " columns=['A', 'B', 'C', 'D'])\n",
        "df2= pd.DataFrame(sps.uniform.rvs(size=(7, 3)),\n",
        " columns=['A', 'B', 'C'])\n",
        "print(df1+df2)"
      ],
      "metadata": {
        "colab": {
          "base_uri": "https://localhost:8080/"
        },
        "id": "4rrRGzGb3gGs",
        "outputId": "9789e850-da0d-4606-81b8-3e0229f81c17"
      },
      "execution_count": null,
      "outputs": [
        {
          "output_type": "stream",
          "name": "stdout",
          "text": [
            "          A         B         C   D\n",
            "0  0.857690  1.130782  0.597807 NaN\n",
            "1  0.504256  1.425768  0.829487 NaN\n",
            "2  1.008503  1.048622  0.094214 NaN\n",
            "3  0.559719  1.679717  1.549945 NaN\n",
            "4  0.722425  1.026857  1.320228 NaN\n",
            "5  1.066198  0.679382  0.901657 NaN\n",
            "6  1.803763  1.144471  1.285784 NaN\n",
            "7       NaN       NaN       NaN NaN\n",
            "8       NaN       NaN       NaN NaN\n",
            "9       NaN       NaN       NaN NaN\n"
          ]
        }
      ]
    },
    {
      "cell_type": "code",
      "source": [
        "import scipy.stats as sps\n",
        "import pandas as pd\n",
        "df1 = pd.DataFrame(sps.uniform.rvs(size=(10, 4)),\n",
        " columns=['A', 'B', 'C', 'D'])\n",
        "print(2 * df1 + 3)"
      ],
      "metadata": {
        "colab": {
          "base_uri": "https://localhost:8080/"
        },
        "id": "rqyLKdlm3gon",
        "outputId": "1724b78b-e98c-4378-841c-73e09508a04e"
      },
      "execution_count": null,
      "outputs": [
        {
          "output_type": "stream",
          "name": "stdout",
          "text": [
            "          A         B         C         D\n",
            "0  3.016872  3.109977  3.907284  4.904539\n",
            "1  4.263285  3.417684  3.352978  3.239451\n",
            "2  3.169223  3.133542  4.219625  3.206557\n",
            "3  4.770845  3.127891  4.940849  4.799057\n",
            "4  3.498743  4.711939  4.935367  3.033772\n",
            "5  3.444264  4.229789  4.344414  4.796903\n",
            "6  4.730313  3.377675  4.679720  3.100076\n",
            "7  3.238304  3.092957  3.501332  3.119984\n",
            "8  3.120842  3.806819  3.678208  4.216209\n",
            "9  3.002080  3.007852  3.928399  4.915054\n"
          ]
        }
      ]
    },
    {
      "cell_type": "code",
      "source": [
        "import numpy as np\n",
        "import scipy.stats as sps\n",
        "import pandas as pd\n",
        "df1 = pd.DataFrame(sps.uniform.rvs(size=(10, 4)),\n",
        " columns=['A', 'B', 'C', 'D'])\n",
        "print(np.sin(df1))"
      ],
      "metadata": {
        "colab": {
          "base_uri": "https://localhost:8080/"
        },
        "id": "E3qY5bJ93gsC",
        "outputId": "4c2f5637-ceb6-4993-cf03-ca8b99baa6b0"
      },
      "execution_count": null,
      "outputs": [
        {
          "output_type": "stream",
          "name": "stdout",
          "text": [
            "          A         B         C         D\n",
            "0  0.511567  0.066628  0.319506  0.629726\n",
            "1  0.700993  0.352420  0.066535  0.468806\n",
            "2  0.269585  0.192416  0.338132  0.050248\n",
            "3  0.479777  0.350208  0.242857  0.304380\n",
            "4  0.726916  0.432563  0.070733  0.747051\n",
            "5  0.493771  0.727651  0.253501  0.574884\n",
            "6  0.659376  0.602141  0.447160  0.554595\n",
            "7  0.756999  0.569263  0.820790  0.371659\n",
            "8  0.283721  0.590500  0.748459  0.648342\n",
            "9  0.382574  0.653819  0.193068  0.591691\n"
          ]
        }
      ]
    },
    {
      "cell_type": "code",
      "source": [
        "import scipy.stats as sps\n",
        "import pandas as pd\n",
        "df1 = pd.DataFrame(sps.uniform.rvs(size=(10, 4)),\n",
        " columns=['A', 'B', 'C', 'D'])\n",
        "cs = df1.cumsum()\n",
        "print(cs)"
      ],
      "metadata": {
        "colab": {
          "base_uri": "https://localhost:8080/"
        },
        "id": "v4TxKQG33gw5",
        "outputId": "e86ba19c-7769-4567-843a-742bc00062aa"
      },
      "execution_count": null,
      "outputs": [
        {
          "output_type": "stream",
          "name": "stdout",
          "text": [
            "          A         B         C         D\n",
            "0  0.379662  0.505037  0.647491  0.047681\n",
            "1  1.212653  1.020723  1.520106  0.573353\n",
            "2  1.635127  1.431293  1.749541  0.664331\n",
            "3  1.637190  1.582115  2.277033  1.623809\n",
            "4  2.220509  2.490054  3.079345  1.710151\n",
            "5  2.282709  3.065146  3.144541  1.931383\n",
            "6  2.844634  3.687256  3.777903  2.207781\n",
            "7  3.222936  3.941537  4.522411  2.251897\n",
            "8  4.003788  4.628474  4.634652  2.924038\n",
            "9  4.530673  5.488259  5.077167  3.378452\n"
          ]
        }
      ]
    },
    {
      "cell_type": "code",
      "source": [
        "import matplotlib.pyplot as plt\n",
        "import scipy.stats as sps\n",
        "import pandas as pd\n",
        "df1 = pd.DataFrame(sps.uniform.rvs(size=(10, 4)),\n",
        " columns=['A', 'B', 'C', 'D'])\n",
        "cs = df1.cumsum()\n",
        "cs.plot()\n",
        "plt.show()"
      ],
      "metadata": {
        "colab": {
          "base_uri": "https://localhost:8080/",
          "height": 265
        },
        "id": "LMEw5euj_jYM",
        "outputId": "41224c1d-5494-48b1-d660-eae1f90b6302"
      },
      "execution_count": null,
      "outputs": [
        {
          "output_type": "display_data",
          "data": {
            "text/plain": [
              "<Figure size 432x288 with 1 Axes>"
            ],
            "image/png": "[encoded data removed]"
          },
          "metadata": {
            "needs_background": "light"
          }
        }
      ]
    },
    {
      "cell_type": "code",
      "source": [
        "import matplotlib.pyplot as plt\n",
        "import numpy as np\n",
        "import scipy.stats as sps\n",
        "import pandas as pd\n",
        "# YOUR CODE\n",
        "# генерируем выборку\n",
        "n = 100\n",
        "sample = sps.norm.rvs(size=n)\n",
        "print(sample)\n",
        "# создаем пропуски\n",
        "index = np.random.choice(np.arange(n), int(0.1 * n),\n",
        "replace=True)\n",
        "sample[index] = np.nan\n",
        "# заводим dataframe\n",
        "sample_df = pd.DataFrame(sample, columns=['Выборка'])\n",
        "for k in range(1, 5):\n",
        " sample_df['{}-й выборочный момент'.format(k)] = (\n",
        " sample_df['Выборка'] ** k\n",
        " ).expanding().apply(np.nanmean)\n",
        " sample_df.plot(figsize=(10, 5));\n",
        "plt.show()"
      ],
      "metadata": {
        "colab": {
          "base_uri": "https://localhost:8080/",
          "height": 1000
        },
        "id": "caLYjONq_je6",
        "outputId": "083f1f91-bf46-4b46-a577-a9d1cf7daa98"
      },
      "execution_count": null,
      "outputs": [
        {
          "output_type": "stream",
          "name": "stdout",
          "text": [
            "[ 0.07713032 -0.11875775  2.18017209  0.61085929  0.9917378   0.06060144\n",
            "  1.7796795   1.17886963  0.44555881  1.79682794  2.63128864  0.08527109\n",
            " -0.39674518 -0.81286518  0.95705814  0.82756793  0.80545183 -0.09788122\n",
            " -0.73901454  0.67378071  1.27757841 -0.48429688 -1.64906786  0.12230828\n",
            " -0.74515801  0.07639972 -1.19408791  0.00315564  0.87707976  1.1742204\n",
            "  0.15736976  0.66414617  0.0101298  -1.45782171  1.5359627   0.85188405\n",
            "  0.19203524 -1.2704344   1.9887063   0.99035666  0.6755076  -0.71775177\n",
            "  0.0740544  -0.25062157 -0.87238665  0.11251971  0.59184819 -0.44851828\n",
            " -0.051378   -1.1599276  -0.73127562 -1.38918021  0.87804522  0.30702915\n",
            " -2.26406545 -0.23618621 -0.31151207  0.20629389 -0.70298068  0.58945382\n",
            "  1.01848326  0.04723138  1.19500222  0.86942953  1.20436341 -1.04140843\n",
            " -1.8799461   0.88409652  1.98448666 -0.16601732 -0.46143494  0.53866694\n",
            " -0.50058462 -0.42560424 -0.03706331  0.26707485  0.97594714 -0.83381458\n",
            " -0.68936574 -1.08740543  0.18507927 -0.42789769  1.67862612 -1.02071226\n",
            "  0.94316019  0.04248    -0.00719067 -0.43815228 -0.08195175 -0.97254886\n",
            "  0.33983053 -1.2157484   0.03417085  0.8013873  -0.06960145 -1.40287968\n",
            "  0.40265295 -0.90864366 -0.76148101  0.86262526]\n"
          ]
        },
        {
          "output_type": "display_data",
          "data": {
            "text/plain": [
              "<Figure size 720x360 with 1 Axes>"
            ],
            "image/png": "[encoded data removed]"
          },
          "metadata": {
            "needs_background": "light"
          }
        },
        {
          "output_type": "display_data",
          "data": {
            "text/plain": [
              "<Figure size 720x360 with 1 Axes>"
            ],
            "image/png": "[encoded data removed]"
          },
          "metadata": {
            "needs_background": "light"
          }
        },
        {
          "output_type": "display_data",
          "data": {
            "text/plain": [
              "<Figure size 720x360 with 1 Axes>"
            ],
            "image/png": "[encoded data removed]"
          },
          "metadata": {
            "needs_background": "light"
          }
        },
        {
          "output_type": "display_data",
          "data": {
            "text/plain": [
              "<Figure size 720x360 with 1 Axes>"
            ],
            "image/png": "[encoded data removed]"
          },
          "metadata": {
            "needs_background": "light"
          }
        }
      ]
    },
    {
      "cell_type": "code",
      "source": [
        "import pandas as pd\n",
        "print(pd.Timedelta('5W 6 days 5hr 37min 23sec 12ms'))"
      ],
      "metadata": {
        "colab": {
          "base_uri": "https://localhost:8080/"
        },
        "id": "xrc881Jy_jrX",
        "outputId": "4d0b4e62-5b55-40ea-a44c-d70b0d824196"
      },
      "execution_count": null,
      "outputs": [
        {
          "output_type": "stream",
          "name": "stdout",
          "text": [
            "41 days 05:37:23.012000\n"
          ]
        }
      ]
    },
    {
      "cell_type": "code",
      "source": [
        "import pandas as pd\n",
        "print(pd.Timedelta('1Y'),\n",
        "pd.Timedelta('1M'))"
      ],
      "metadata": {
        "colab": {
          "base_uri": "https://localhost:8080/"
        },
        "id": "Iee9VMoT_jvF",
        "outputId": "441735ed-0c3b-4242-b3b9-b85e359ab6c3"
      },
      "execution_count": null,
      "outputs": [
        {
          "output_type": "stream",
          "name": "stdout",
          "text": [
            "365 days 05:49:12 0 days 00:01:00\n"
          ]
        },
        {
          "output_type": "stream",
          "name": "stderr",
          "text": [
            "/usr/local/lib/python3.7/dist-packages/IPython/core/interactiveshell.py:3326: FutureWarning: Units 'M', 'Y' and 'y' do not represent unambiguous timedelta values and will be removed in a future version\n",
            "  exec(code_obj, self.user_global_ns, self.user_ns)\n"
          ]
        }
      ]
    },
    {
      "cell_type": "code",
      "source": [
        "import pandas as pd\n",
        "print(pd.to_datetime('2022.09.18 18:30') \\\n",
        " + pd.Timedelta('8hr 37min 23sec 12ms'))"
      ],
      "metadata": {
        "colab": {
          "base_uri": "https://localhost:8080/"
        },
        "id": "9pR7wDzb3g0C",
        "outputId": "c143d79d-8737-47de-b9b5-acfa3312cb8b"
      },
      "execution_count": null,
      "outputs": [
        {
          "output_type": "stream",
          "name": "stdout",
          "text": [
            "2022-09-19 03:07:23.012000\n"
          ]
        }
      ]
    },
    {
      "cell_type": "code",
      "source": [
        "import pandas as pd\n",
        "print(pd.to_datetime('2022.09.18 18:30') \\\n",
        " - pd.Timedelta('20hr 50min 23sec 12ms'))"
      ],
      "metadata": {
        "colab": {
          "base_uri": "https://localhost:8080/"
        },
        "id": "LPCqTmqi3g2J",
        "outputId": "9a17b4eb-bf48-4ab3-817a-e96b96f866dd"
      },
      "execution_count": null,
      "outputs": [
        {
          "output_type": "stream",
          "name": "stdout",
          "text": [
            "2022-09-17 21:39:36.988000\n"
          ]
        }
      ]
    },
    {
      "cell_type": "code",
      "source": [
        "import pandas as pd\n",
        "periods = pd.timedelta_range(start='8H', freq='3H', end='23H')\n",
        "print(periods)"
      ],
      "metadata": {
        "colab": {
          "base_uri": "https://localhost:8080/"
        },
        "id": "hzbXcIWd3g4m",
        "outputId": "84ab729d-657b-4ee6-d591-4e262ff95d47"
      },
      "execution_count": null,
      "outputs": [
        {
          "output_type": "stream",
          "name": "stdout",
          "text": [
            "TimedeltaIndex(['0 days 08:00:00', '0 days 11:00:00', '0 days 14:00:00',\n",
            "                '0 days 17:00:00', '0 days 20:00:00', '0 days 23:00:00'],\n",
            "               dtype='timedelta64[ns]', freq='3H')\n"
          ]
        }
      ]
    },
    {
      "cell_type": "code",
      "source": [
        "import pandas as pd\n",
        "# Даты измерний температуры\n",
        "dates = pd.to_datetime('2022.03.22') \\\n",
        " + pd.timedelta_range(start=0, freq='1D', end='2W')\n",
        "print(dates)"
      ],
      "metadata": {
        "colab": {
          "base_uri": "https://localhost:8080/"
        },
        "id": "lWG4pJGgAWIX",
        "outputId": "4527d227-f22e-4113-e38d-d75a0311ec67"
      },
      "execution_count": null,
      "outputs": [
        {
          "output_type": "stream",
          "name": "stdout",
          "text": [
            "DatetimeIndex(['2022-03-22', '2022-03-23', '2022-03-24', '2022-03-25',\n",
            "               '2022-03-26', '2022-03-27', '2022-03-28', '2022-03-29',\n",
            "               '2022-03-30', '2022-03-31', '2022-04-01', '2022-04-02',\n",
            "               '2022-04-03', '2022-04-04', '2022-04-05'],\n",
            "              dtype='datetime64[ns]', freq='D')\n"
          ]
        }
      ]
    },
    {
      "cell_type": "code",
      "source": [
        "import numpy as np\n",
        "import pandas as pd\n",
        "# Периоды измерения температуры днем\n",
        "periods = pd.timedelta_range(start='8H', freq='3H', end='23H')\n",
        "# Даты измерний температуры\n",
        "dates = pd.to_datetime('2022.03.22') \\\n",
        " + pd.timedelta_range(start=0, freq='1D', end='2W')\n",
        "# Время измерния температуры\n",
        "n, m = len(dates), len(periods)\n",
        "dates_new = dates.repeat(m)\n",
        "periods_new = pd.to_timedelta(np.tile(periods, n))\n",
        "time = dates_new + periods_new\n",
        "print(time)"
      ],
      "metadata": {
        "colab": {
          "base_uri": "https://localhost:8080/"
        },
        "id": "tO_nZGYCAWLs",
        "outputId": "ed835981-f6c4-4895-a514-e3552b95f4a9"
      },
      "execution_count": null,
      "outputs": [
        {
          "output_type": "stream",
          "name": "stdout",
          "text": [
            "DatetimeIndex(['2022-03-22 08:00:00', '2022-03-22 11:00:00',\n",
            "               '2022-03-22 14:00:00', '2022-03-22 17:00:00',\n",
            "               '2022-03-22 20:00:00', '2022-03-22 23:00:00',\n",
            "               '2022-03-23 08:00:00', '2022-03-23 11:00:00',\n",
            "               '2022-03-23 14:00:00', '2022-03-23 17:00:00',\n",
            "               '2022-03-23 20:00:00', '2022-03-23 23:00:00',\n",
            "               '2022-03-24 08:00:00', '2022-03-24 11:00:00',\n",
            "               '2022-03-24 14:00:00', '2022-03-24 17:00:00',\n",
            "               '2022-03-24 20:00:00', '2022-03-24 23:00:00',\n",
            "               '2022-03-25 08:00:00', '2022-03-25 11:00:00',\n",
            "               '2022-03-25 14:00:00', '2022-03-25 17:00:00',\n",
            "               '2022-03-25 20:00:00', '2022-03-25 23:00:00',\n",
            "               '2022-03-26 08:00:00', '2022-03-26 11:00:00',\n",
            "               '2022-03-26 14:00:00', '2022-03-26 17:00:00',\n",
            "               '2022-03-26 20:00:00', '2022-03-26 23:00:00',\n",
            "               '2022-03-27 08:00:00', '2022-03-27 11:00:00',\n",
            "               '2022-03-27 14:00:00', '2022-03-27 17:00:00',\n",
            "               '2022-03-27 20:00:00', '2022-03-27 23:00:00',\n",
            "               '2022-03-28 08:00:00', '2022-03-28 11:00:00',\n",
            "               '2022-03-28 14:00:00', '2022-03-28 17:00:00',\n",
            "               '2022-03-28 20:00:00', '2022-03-28 23:00:00',\n",
            "               '2022-03-29 08:00:00', '2022-03-29 11:00:00',\n",
            "               '2022-03-29 14:00:00', '2022-03-29 17:00:00',\n",
            "               '2022-03-29 20:00:00', '2022-03-29 23:00:00',\n",
            "               '2022-03-30 08:00:00', '2022-03-30 11:00:00',\n",
            "               '2022-03-30 14:00:00', '2022-03-30 17:00:00',\n",
            "               '2022-03-30 20:00:00', '2022-03-30 23:00:00',\n",
            "               '2022-03-31 08:00:00', '2022-03-31 11:00:00',\n",
            "               '2022-03-31 14:00:00', '2022-03-31 17:00:00',\n",
            "               '2022-03-31 20:00:00', '2022-03-31 23:00:00',\n",
            "               '2022-04-01 08:00:00', '2022-04-01 11:00:00',\n",
            "               '2022-04-01 14:00:00', '2022-04-01 17:00:00',\n",
            "               '2022-04-01 20:00:00', '2022-04-01 23:00:00',\n",
            "               '2022-04-02 08:00:00', '2022-04-02 11:00:00',\n",
            "               '2022-04-02 14:00:00', '2022-04-02 17:00:00',\n",
            "               '2022-04-02 20:00:00', '2022-04-02 23:00:00',\n",
            "               '2022-04-03 08:00:00', '2022-04-03 11:00:00',\n",
            "               '2022-04-03 14:00:00', '2022-04-03 17:00:00',\n",
            "               '2022-04-03 20:00:00', '2022-04-03 23:00:00',\n",
            "               '2022-04-04 08:00:00', '2022-04-04 11:00:00',\n",
            "               '2022-04-04 14:00:00', '2022-04-04 17:00:00',\n",
            "               '2022-04-04 20:00:00', '2022-04-04 23:00:00',\n",
            "               '2022-04-05 08:00:00', '2022-04-05 11:00:00',\n",
            "               '2022-04-05 14:00:00', '2022-04-05 17:00:00',\n",
            "               '2022-04-05 20:00:00', '2022-04-05 23:00:00'],\n",
            "              dtype='datetime64[ns]', freq=None)\n"
          ]
        }
      ]
    }
  ]
}